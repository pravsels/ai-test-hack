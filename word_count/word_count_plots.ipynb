{
  "cells": [
    {
      "cell_type": "code",
      "execution_count": 120,
      "metadata": {
        "id": "f_2yruSkW789"
      },
      "outputs": [],
      "source": [
        "# !pip install openai"
      ]
    },
    {
      "cell_type": "code",
      "execution_count": 117,
      "metadata": {
        "id": "pHvJ8YfjmEoD"
      },
      "outputs": [],
      "source": [
        "# %env OPENAI_API_KEY=sk-XXXXXXXXXXXXXXXXXXXXXXXXXXXXXXXXXXXXXXXXXXXXXXX"
      ]
    },
    {
      "cell_type": "code",
      "execution_count": 121,
      "metadata": {
        "id": "5BcSXU48ofJU"
      },
      "outputs": [],
      "source": [
        "import os\n",
        "import pandas as pd\n",
        "import matplotlib.pyplot as plt\n",
        "# import openai\n",
        "\n",
        "# openai.api_key = os.getenv(\"OPENAI_API_KEY\")"
      ]
    },
    {
      "cell_type": "code",
      "execution_count": 96,
      "metadata": {
        "id": "kzq7xmAYkujR"
      },
      "outputs": [],
      "source": [
        "# def make_request(prompt, model=\"text-davinci-001\"):\n",
        "\n",
        "#   response = openai.Completion.create(\n",
        "#     engine=model,\n",
        "#     prompt=prompt,\n",
        "#     temperature=0.0,\n",
        "#     max_tokens=50,\n",
        "#     top_p=1,\n",
        "#     frequency_penalty=0,\n",
        "#     presence_penalty=0\n",
        "#   )\n",
        "\n",
        "#   raw_ans = response.choices[0].text\n",
        "\n",
        "#   return raw_ans"
      ]
    },
    {
      "cell_type": "code",
      "execution_count": 103,
      "metadata": {
        "id": "wQIKYy2cmqAB"
      },
      "outputs": [],
      "source": [
        "models = {\n",
        "          # GPT-3 sizes are based on https://blog.eleuther.ai/gpt3-model-sizes/\n",
        "          \"text-ada-001\": 350_000_000, \n",
        "          \"text-babbage-001\": 1_300_000_000, \n",
        "          \"text-curie-001\": 6_700_000_000, \n",
        "          \"text-davinci-001\": 175_000_000_000 \n",
        "          }"
      ]
    },
    {
      "cell_type": "code",
      "execution_count": 56,
      "metadata": {
        "id": "JrRjY9Qkrf0l"
      },
      "outputs": [],
      "source": [
        "# df = pd.read_csv('./word_counting_dataset.csv')"
      ]
    },
    {
      "cell_type": "code",
      "execution_count": 102,
      "metadata": {
        "id": "aGbZUuoVruI5"
      },
      "outputs": [],
      "source": [
        "# df.head()"
      ]
    },
    {
      "cell_type": "code",
      "execution_count": 63,
      "metadata": {
        "id": "EupiI_X9ru-r"
      },
      "outputs": [],
      "source": [
        "# for model in models.keys():\n",
        "#   model_responses = []\n",
        "#   for _, row in df.iterrows():\n",
        "#     prompt = row.prompt\n",
        "\n",
        "#     raw_answer = make_request(prompt, model)\n",
        "#     model_responses.append(raw_answer)\n",
        "\n",
        "#   df[model + '-response'] = model_responses"
      ]
    },
    {
      "cell_type": "code",
      "execution_count": 101,
      "metadata": {
        "id": "jAkppEN6smik"
      },
      "outputs": [],
      "source": [
        "# df.head()"
      ]
    },
    {
      "cell_type": "code",
      "execution_count": 65,
      "metadata": {
        "id": "OAc2tMg-taUU"
      },
      "outputs": [],
      "source": [
        "# df.to_csv('world_counting_response.csv')"
      ]
    },
    {
      "cell_type": "code",
      "execution_count": 100,
      "metadata": {
        "id": "0ZKmINMJyVcd"
      },
      "outputs": [],
      "source": [
        "# len(df)"
      ]
    },
    {
      "cell_type": "code",
      "execution_count": 91,
      "metadata": {
        "id": "n23fjFiiwJvW"
      },
      "outputs": [],
      "source": [
        "# answer_col = df['answer'].to_numpy()\n",
        "# model_answer_col = df['text-davinci-001-response'].to_numpy()\n",
        "# classification_results = []\n",
        "# for index in range(len(df)):\n",
        "#   true_answer_set = list(answer_col[index].split(','))\n",
        "#   model_answer_set = set(model_answer_col[index].split())\n",
        "\n",
        "#   clf = False \n",
        "\n",
        "#   for answer_key in true_answer_set:\n",
        "#     if answer_key in model_answer_set:\n",
        "#       clf = True \n",
        "  \n",
        "#   classification_results.append(clf)\n",
        "\n",
        "# df['text-davinci-001-classification'] = classification_results"
      ]
    },
    {
      "cell_type": "code",
      "execution_count": 97,
      "metadata": {
        "id": "KMTh-yz_xOvh"
      },
      "outputs": [],
      "source": [
        "# df.tail()"
      ]
    },
    {
      "cell_type": "code",
      "execution_count": 93,
      "metadata": {
        "id": "vAnJV5fr0D1i"
      },
      "outputs": [],
      "source": [
        "# df.to_csv('world_counting_results.csv')"
      ]
    },
    {
      "cell_type": "code",
      "execution_count": 98,
      "metadata": {
        "id": "uIwtBA-10e5h"
      },
      "outputs": [],
      "source": [
        "df = pd.read_csv('./world_counting_results.csv')"
      ]
    },
    {
      "cell_type": "code",
      "execution_count": 105,
      "metadata": {
        "colab": {
          "base_uri": "https://localhost:8080/",
          "height": 281
        },
        "id": "kWvKnrc803yC",
        "outputId": "a427e652-ea94-4170-e75b-d74d2d13e30e"
      },
      "outputs": [
        {
          "data": {
            "text/html": [
              "\n",
              "  <div id=\"df-58da0f17-e90c-48b6-b0f4-504cf9593382\">\n",
              "    <div class=\"colab-df-container\">\n",
              "      <div>\n",
              "<style scoped>\n",
              "    .dataframe tbody tr th:only-of-type {\n",
              "        vertical-align: middle;\n",
              "    }\n",
              "\n",
              "    .dataframe tbody tr th {\n",
              "        vertical-align: top;\n",
              "    }\n",
              "\n",
              "    .dataframe thead th {\n",
              "        text-align: right;\n",
              "    }\n",
              "</style>\n",
              "<table border=\"1\" class=\"dataframe\">\n",
              "  <thead>\n",
              "    <tr style=\"text-align: right;\">\n",
              "      <th></th>\n",
              "      <th>Unnamed: 0</th>\n",
              "      <th>Unnamed: 0.1</th>\n",
              "      <th>prompt</th>\n",
              "      <th>answer</th>\n",
              "      <th>text-ada-001-response</th>\n",
              "      <th>text-babbage-001-response</th>\n",
              "      <th>text-curie-001-response</th>\n",
              "      <th>text-davinci-001-response</th>\n",
              "      <th>text-ada-001-classification</th>\n",
              "      <th>text-babbage-001-classification</th>\n",
              "      <th>text-curie-001-classification</th>\n",
              "      <th>text-davinci-001-classification</th>\n",
              "    </tr>\n",
              "  </thead>\n",
              "  <tbody>\n",
              "    <tr>\n",
              "      <th>0</th>\n",
              "      <td>0</td>\n",
              "      <td>0</td>\n",
              "      <td>Q: Count the number of letters in the word 'en...</td>\n",
              "      <td>7,seven</td>\n",
              "      <td>\\n\\nThere are nine letters in England.</td>\n",
              "      <td>\\n\\nThere are nine letters in the word 'england'.</td>\n",
              "      <td>\\n\\nThere are 36 letters in the word 'England'.</td>\n",
              "      <td>\\n\\nThere are six letters in the word 'england'.</td>\n",
              "      <td>False</td>\n",
              "      <td>False</td>\n",
              "      <td>False</td>\n",
              "      <td>False</td>\n",
              "    </tr>\n",
              "  </tbody>\n",
              "</table>\n",
              "</div>\n",
              "      <button class=\"colab-df-convert\" onclick=\"convertToInteractive('df-58da0f17-e90c-48b6-b0f4-504cf9593382')\"\n",
              "              title=\"Convert this dataframe to an interactive table.\"\n",
              "              style=\"display:none;\">\n",
              "        \n",
              "  <svg xmlns=\"http://www.w3.org/2000/svg\" height=\"24px\"viewBox=\"0 0 24 24\"\n",
              "       width=\"24px\">\n",
              "    <path d=\"M0 0h24v24H0V0z\" fill=\"none\"/>\n",
              "    <path d=\"M18.56 5.44l.94 2.06.94-2.06 2.06-.94-2.06-.94-.94-2.06-.94 2.06-2.06.94zm-11 1L8.5 8.5l.94-2.06 2.06-.94-2.06-.94L8.5 2.5l-.94 2.06-2.06.94zm10 10l.94 2.06.94-2.06 2.06-.94-2.06-.94-.94-2.06-.94 2.06-2.06.94z\"/><path d=\"M17.41 7.96l-1.37-1.37c-.4-.4-.92-.59-1.43-.59-.52 0-1.04.2-1.43.59L10.3 9.45l-7.72 7.72c-.78.78-.78 2.05 0 2.83L4 21.41c.39.39.9.59 1.41.59.51 0 1.02-.2 1.41-.59l7.78-7.78 2.81-2.81c.8-.78.8-2.07 0-2.86zM5.41 20L4 18.59l7.72-7.72 1.47 1.35L5.41 20z\"/>\n",
              "  </svg>\n",
              "      </button>\n",
              "      \n",
              "  <style>\n",
              "    .colab-df-container {\n",
              "      display:flex;\n",
              "      flex-wrap:wrap;\n",
              "      gap: 12px;\n",
              "    }\n",
              "\n",
              "    .colab-df-convert {\n",
              "      background-color: #E8F0FE;\n",
              "      border: none;\n",
              "      border-radius: 50%;\n",
              "      cursor: pointer;\n",
              "      display: none;\n",
              "      fill: #1967D2;\n",
              "      height: 32px;\n",
              "      padding: 0 0 0 0;\n",
              "      width: 32px;\n",
              "    }\n",
              "\n",
              "    .colab-df-convert:hover {\n",
              "      background-color: #E2EBFA;\n",
              "      box-shadow: 0px 1px 2px rgba(60, 64, 67, 0.3), 0px 1px 3px 1px rgba(60, 64, 67, 0.15);\n",
              "      fill: #174EA6;\n",
              "    }\n",
              "\n",
              "    [theme=dark] .colab-df-convert {\n",
              "      background-color: #3B4455;\n",
              "      fill: #D2E3FC;\n",
              "    }\n",
              "\n",
              "    [theme=dark] .colab-df-convert:hover {\n",
              "      background-color: #434B5C;\n",
              "      box-shadow: 0px 1px 3px 1px rgba(0, 0, 0, 0.15);\n",
              "      filter: drop-shadow(0px 1px 2px rgba(0, 0, 0, 0.3));\n",
              "      fill: #FFFFFF;\n",
              "    }\n",
              "  </style>\n",
              "\n",
              "      <script>\n",
              "        const buttonEl =\n",
              "          document.querySelector('#df-58da0f17-e90c-48b6-b0f4-504cf9593382 button.colab-df-convert');\n",
              "        buttonEl.style.display =\n",
              "          google.colab.kernel.accessAllowed ? 'block' : 'none';\n",
              "\n",
              "        async function convertToInteractive(key) {\n",
              "          const element = document.querySelector('#df-58da0f17-e90c-48b6-b0f4-504cf9593382');\n",
              "          const dataTable =\n",
              "            await google.colab.kernel.invokeFunction('convertToInteractive',\n",
              "                                                     [key], {});\n",
              "          if (!dataTable) return;\n",
              "\n",
              "          const docLinkHtml = 'Like what you see? Visit the ' +\n",
              "            '<a target=\"_blank\" href=https://colab.research.google.com/notebooks/data_table.ipynb>data table notebook</a>'\n",
              "            + ' to learn more about interactive tables.';\n",
              "          element.innerHTML = '';\n",
              "          dataTable['output_type'] = 'display_data';\n",
              "          await google.colab.output.renderOutput(dataTable, element);\n",
              "          const docLink = document.createElement('div');\n",
              "          docLink.innerHTML = docLinkHtml;\n",
              "          element.appendChild(docLink);\n",
              "        }\n",
              "      </script>\n",
              "    </div>\n",
              "  </div>\n",
              "  "
            ],
            "text/plain": [
              "   Unnamed: 0  Unnamed: 0.1  \\\n",
              "0           0             0   \n",
              "\n",
              "                                              prompt   answer  \\\n",
              "0  Q: Count the number of letters in the word 'en...  7,seven   \n",
              "\n",
              "                    text-ada-001-response  \\\n",
              "0  \\n\\nThere are nine letters in England.   \n",
              "\n",
              "                           text-babbage-001-response  \\\n",
              "0  \\n\\nThere are nine letters in the word 'england'.   \n",
              "\n",
              "                           text-curie-001-response  \\\n",
              "0  \\n\\nThere are 36 letters in the word 'England'.   \n",
              "\n",
              "                          text-davinci-001-response  \\\n",
              "0  \\n\\nThere are six letters in the word 'england'.   \n",
              "\n",
              "   text-ada-001-classification  text-babbage-001-classification  \\\n",
              "0                        False                            False   \n",
              "\n",
              "   text-curie-001-classification  text-davinci-001-classification  \n",
              "0                          False                            False  "
            ]
          },
          "execution_count": 105,
          "metadata": {},
          "output_type": "execute_result"
        }
      ],
      "source": [
        "df.head(1)"
      ]
    },
    {
      "cell_type": "code",
      "execution_count": 106,
      "metadata": {
        "colab": {
          "base_uri": "https://localhost:8080/"
        },
        "id": "Jl7xGPtw04na",
        "outputId": "ddede3d0-92fa-45e4-a382-4fe33c214872"
      },
      "outputs": [
        {
          "data": {
            "text/plain": [
              "518"
            ]
          },
          "execution_count": 106,
          "metadata": {},
          "output_type": "execute_result"
        }
      ],
      "source": [
        "total = len(df)\n",
        "total"
      ]
    },
    {
      "cell_type": "code",
      "execution_count": 107,
      "metadata": {
        "id": "26XnTNh8AyVN"
      },
      "outputs": [],
      "source": [
        "model_results = {}"
      ]
    },
    {
      "cell_type": "code",
      "execution_count": 112,
      "metadata": {
        "id": "cufDfJfHA5vR"
      },
      "outputs": [],
      "source": [
        "model_results['text-ada-001'] =  df['text-ada-001-classification'].to_numpy().sum() / total\n",
        "model_results['text-babbage-001'] =  df['text-babbage-001-classification'].to_numpy().sum() / total\n",
        "model_results['text-curie-001'] =  df['text-curie-001-classification'].to_numpy().sum() / total\n",
        "model_results['text-davinci-001'] =  df['text-davinci-001-classification'].to_numpy().sum() / total"
      ]
    },
    {
      "cell_type": "code",
      "execution_count": 113,
      "metadata": {
        "colab": {
          "base_uri": "https://localhost:8080/"
        },
        "id": "ZMRFUGXgA_mq",
        "outputId": "39c7641e-e98b-4cb6-9329-3be333153564"
      },
      "outputs": [
        {
          "data": {
            "text/plain": [
              "{'text-ada-001': 0.07142857142857142,\n",
              " 'text-babbage-001': 0.011583011583011582,\n",
              " 'text-curie-001': 0.019305019305019305,\n",
              " 'text-davinci-001': 0.07528957528957529}"
            ]
          },
          "execution_count": 113,
          "metadata": {},
          "output_type": "execute_result"
        }
      ],
      "source": [
        "model_results"
      ]
    },
    {
      "cell_type": "code",
      "execution_count": 134,
      "metadata": {
        "colab": {
          "base_uri": "https://localhost:8080/",
          "height": 281
        },
        "id": "lBkBWlYrBZ7A",
        "outputId": "888ebfd3-8307-4637-91d7-344bb4708007"
      },
      "outputs": [
        {
          "data": {
            "image/png": "[encoded data removed]",
            "text/plain": [
              "<Figure size 432x288 with 1 Axes>"
            ]
          },
          "metadata": {
            "needs_background": "light"
          },
          "output_type": "display_data"
        }
      ],
      "source": [
        "plt.title('Acc vs Model Size')\n",
        "plt.ylabel('Classification Accuracy')\n",
        "# plt.xlabel('GPT-3 Models')\n",
        "plt.plot(list(models.keys()), list(model_results.values()))\n",
        "plt.show()"
      ]
    },
    {
      "cell_type": "code",
      "execution_count": null,
      "metadata": {
        "id": "GbQCvuR4CHio"
      },
      "outputs": [],
      "source": []
    }
  ],
  "metadata": {
    "colab": {
      "provenance": []
    },
    "kernelspec": {
      "display_name": "Python 3",
      "name": "python3"
    },
    "language_info": {
      "name": "python"
    }
  },
  "nbformat": 4,
  "nbformat_minor": 0
}
